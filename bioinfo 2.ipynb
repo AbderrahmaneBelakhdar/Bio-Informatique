{
 "cells": [
  {
   "cell_type": "code",
   "execution_count": 1,
   "id": "774edc23",
   "metadata": {},
   "outputs": [
    {
     "name": "stdout",
     "output_type": "stream",
     "text": [
      "Requirement already satisfied: bio in c:\\users\\hp\\anaconda3\\lib\\site-packages (1.6.0)\n",
      "Requirement already satisfied: pandas in c:\\users\\hp\\anaconda3\\lib\\site-packages (from bio) (1.4.2)\n",
      "Requirement already satisfied: requests in c:\\users\\hp\\anaconda3\\lib\\site-packages (from bio) (2.27.1)\n",
      "Requirement already satisfied: mygene in c:\\users\\hp\\anaconda3\\lib\\site-packages (from bio) (3.2.2)\n",
      "Requirement already satisfied: gprofiler-official in c:\\users\\hp\\anaconda3\\lib\\site-packages (from bio) (1.0.0)\n",
      "Requirement already satisfied: biopython>=1.80 in c:\\users\\hp\\anaconda3\\lib\\site-packages (from bio) (1.81)\n",
      "Requirement already satisfied: pooch in c:\\users\\hp\\anaconda3\\lib\\site-packages (from bio) (1.8.0)\n",
      "Requirement already satisfied: tqdm in c:\\users\\hp\\anaconda3\\lib\\site-packages (from bio) (4.64.0)\n",
      "Requirement already satisfied: numpy in c:\\users\\hp\\anaconda3\\lib\\site-packages (from biopython>=1.80->bio) (1.21.5)\n",
      "Requirement already satisfied: biothings-client>=0.2.6 in c:\\users\\hp\\anaconda3\\lib\\site-packages (from mygene->bio) (0.3.0)\n",
      "Requirement already satisfied: urllib3<1.27,>=1.21.1 in c:\\users\\hp\\anaconda3\\lib\\site-packages (from requests->bio) (1.26.9)\n",
      "Requirement already satisfied: certifi>=2017.4.17 in c:\\users\\hp\\anaconda3\\lib\\site-packages (from requests->bio) (2021.10.8)\n",
      "Requirement already satisfied: charset-normalizer~=2.0.0 in c:\\users\\hp\\anaconda3\\lib\\site-packages (from requests->bio) (2.0.4)\n",
      "Requirement already satisfied: idna<4,>=2.5 in c:\\users\\hp\\anaconda3\\lib\\site-packages (from requests->bio) (3.3)\n",
      "Requirement already satisfied: pytz>=2020.1 in c:\\users\\hp\\anaconda3\\lib\\site-packages (from pandas->bio) (2021.3)\n",
      "Requirement already satisfied: python-dateutil>=2.8.1 in c:\\users\\hp\\anaconda3\\lib\\site-packages (from pandas->bio) (2.8.2)\n",
      "Requirement already satisfied: six>=1.5 in c:\\users\\hp\\anaconda3\\lib\\site-packages (from python-dateutil>=2.8.1->pandas->bio) (1.16.0)\n",
      "Requirement already satisfied: packaging>=20.0 in c:\\users\\hp\\anaconda3\\lib\\site-packages (from pooch->bio) (21.3)\n",
      "Requirement already satisfied: platformdirs>=2.5.0 in c:\\users\\hp\\anaconda3\\lib\\site-packages (from pooch->bio) (4.0.0)\n",
      "Requirement already satisfied: pyparsing!=3.0.5,>=2.0.2 in c:\\users\\hp\\anaconda3\\lib\\site-packages (from packaging>=20.0->pooch->bio) (3.0.4)\n",
      "Requirement already satisfied: colorama in c:\\users\\hp\\anaconda3\\lib\\site-packages (from tqdm->bio) (0.4.4)\n"
     ]
    }
   ],
   "source": [
    "!pip install bio"
   ]
  },
  {
   "cell_type": "code",
   "execution_count": 2,
   "id": "d031dd7e",
   "metadata": {},
   "outputs": [
    {
     "name": "stdout",
     "output_type": "stream",
     "text": [
      "target            0 GAATTC 6\n",
      "                  0 ||-|.| 6\n",
      "query             0 GA-TAC 5\n",
      "\n",
      "5.0\n",
      "target            0 GAATTC 6\n",
      "                  0 |-||.| 6\n",
      "query             0 G-ATAC 5\n",
      "\n",
      "5.0\n"
     ]
    }
   ],
   "source": [
    "import numpy \n",
    "from Bio import Align\n",
    "aligner = Align.PairwiseAligner() \n",
    "s1 = \"GAATTC\" \n",
    "s2= \"GATAC\" \n",
    "aligner.mode = 'global' \n",
    "aligner.match = +2 \n",
    "aligner.mismatch = -1 \n",
    "aligner.gap_score = -2 \n",
    "alignments = aligner.align(s1, s2) \n",
    "for alignment in alignments: \n",
    "    print(alignment) \n",
    "    print(alignment.score)"
   ]
  }
 ],
 "metadata": {
  "kernelspec": {
   "display_name": "Python 3 (ipykernel)",
   "language": "python",
   "name": "python3"
  },
  "language_info": {
   "codemirror_mode": {
    "name": "ipython",
    "version": 3
   },
   "file_extension": ".py",
   "mimetype": "text/x-python",
   "name": "python",
   "nbconvert_exporter": "python",
   "pygments_lexer": "ipython3",
   "version": "3.11.3"
  }
 },
 "nbformat": 4,
 "nbformat_minor": 5
}
