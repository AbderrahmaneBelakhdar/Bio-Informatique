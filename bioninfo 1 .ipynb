{
 "cells": [
  {
   "cell_type": "markdown",
   "id": "75eed58f",
   "metadata": {},
   "source": [
    "# The provided code creates a dot plot to visualize the pairwise alignment of two sequences, highlighting matches. "
   ]
  },
  {
   "cell_type": "code",
   "execution_count": 8,
   "id": "533d743d",
   "metadata": {
    "scrolled": true
   },
   "outputs": [
    {
     "data": {
      "image/png": "[encoded data removed]",
      "text/plain": [
       "<Figure size 640x480 with 1 Axes>"
      ]
     },
     "metadata": {},
     "output_type": "display_data"
    }
   ],
   "source": [
    "import matplotlib.pyplot as plt\n",
    "\n",
    "def pairwise_alignment_dot_plot(seq1, seq2, threshold=0.8):\n",
    "    matrix = [[1 if seq1[i] == seq2[j] else 0 for j in range(len(seq2))] for i in range(len(seq1))]\n",
    "\n",
    "    fig, ax = plt.subplots()\n",
    "    ax.matshow(matrix, cmap='gray')\n",
    "\n",
    "    for i in range(len(seq1)):\n",
    "        for j in range(len(seq2)):\n",
    "            if matrix[i][j] >= threshold:\n",
    "                ax.text(j, i, '.', ha='center', va='center', color='red')\n",
    "\n",
    "    ax.set_xticks(range(len(seq2)))\n",
    "    ax.set_xticklabels(list(seq2))\n",
    "\n",
    "    ax.set_yticks(range(len(seq1)))\n",
    "    ax.set_yticklabels(list(seq1))\n",
    "\n",
    "    plt.show()\n",
    "\n",
    "sequence2= \"GATTCTATCTAACT\"\n",
    "sequence1 = \"GTTCTATTCTAAC\"\n",
    "pairwise_alignment_dot_plot(sequence1, sequence2)\n"
   ]
  },
  {
   "cell_type": "code",
   "execution_count": 1,
   "id": "d6117bda",
   "metadata": {},
   "outputs": [
    {
     "name": "stdout",
     "output_type": "stream",
     "text": [
      "[  0.  -2.  -4.  -6.  -8. -10. -12. -14. -16.]\n",
      "[ -2.   2.   0.  -2.  -4.  -6.  -8. -10. -12.]\n",
      "[-4.  0.  1. -1. -3. -2. -4. -6. -8.]\n",
      "[-6. -2. -1.  3.  1. -1. -3. -5. -7.]\n",
      "[-8. -4. -3.  1.  5.  3.  1. -1. -3.]\n",
      "[-10.  -6.  -5.  -1.   3.   7.   5.   3.   1.]\n",
      "[-12.  -8.  -4.  -3.   1.   5.   6.   7.   5.]\n",
      "[-14. -10.  -6.  -5.  -1.   3.   7.   5.   9.]\n"
     ]
    }
   ],
   "source": [
    "import numpy as np\n",
    "\n",
    "def needleman(seq1, seq2, match=2, mismatch=-1, gap_penalty=-2):\n",
    "    len_seq1 = len(seq1)\n",
    "    len_seq2 = len(seq2)\n",
    "\n",
    "    matrix = np.zeros((len_seq1 + 1, len_seq2 + 1))\n",
    "\n",
    "    for i in range(len_seq1 + 1):\n",
    "        matrix[i][0] = i * gap_penalty\n",
    "\n",
    "    for j in range(len_seq2 + 1):\n",
    "        matrix[0][j] = j * gap_penalty\n",
    "\n",
    "    for i in range(1, len_seq1 + 1):\n",
    "        for j in range(1, len_seq2 + 1):\n",
    "            match_score = matrix[i - 1][j - 1] + (match if seq1[i - 1] == seq2[j - 1] else mismatch)\n",
    "            delete_score = matrix[i - 1][j] + gap_penalty\n",
    "            insert_score = matrix[i][j - 1] + gap_penalty\n",
    "\n",
    "            matrix[i][j] = max(match_score, delete_score, insert_score)\n",
    "\n",
    "    return matrix\n",
    "\n",
    "def visualize_matrix(matrix):\n",
    "    for row in matrix:\n",
    "        print(row)\n",
    "\n",
    "sequence1 = \"ACGGCTC\"\n",
    "\n",
    "sequence2 = \"ATGGCCTC\"\n",
    "\n",
    "alignment_matrix = needleman(sequence1, sequence2)\n",
    "visualize_matrix(alignment_matrix)\n",
    "\n"
   ]
  },
  {
   "cell_type": "code",
   "execution_count": null,
   "id": "e218d44b",
   "metadata": {},
   "outputs": [],
   "source": []
  }
 ],
 "metadata": {
  "kernelspec": {
   "display_name": "Python 3 (ipykernel)",
   "language": "python",
   "name": "python3"
  },
  "language_info": {
   "codemirror_mode": {
    "name": "ipython",
    "version": 3
   },
   "file_extension": ".py",
   "mimetype": "text/x-python",
   "name": "python",
   "nbconvert_exporter": "python",
   "pygments_lexer": "ipython3",
   "version": "3.11.3"
  }
 },
 "nbformat": 4,
 "nbformat_minor": 5
}
